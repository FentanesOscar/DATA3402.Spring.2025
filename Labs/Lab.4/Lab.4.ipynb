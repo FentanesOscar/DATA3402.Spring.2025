{
 "cells": [
  {
   "cell_type": "code",
   "execution_count": 146,
   "metadata": {},
   "outputs": [],
   "source": [
    "import numpy as np\n",
    "import math"
   ]
  },
  {
   "cell_type": "markdown",
   "metadata": {},
   "source": [
    "# Lab 4- Object Oriented Programming\n",
    "\n",
    "For all of the exercises below, make sure you provide tests of your solutions.\n"
   ]
  },
  {
   "cell_type": "markdown",
   "metadata": {},
   "source": [
    "1. Write a \"counter\" class that can be incremented up to a specified maximum value, will print an error if an attempt is made to increment beyond that value, and allows reseting the counter. "
   ]
  },
  {
   "cell_type": "code",
   "execution_count": 16,
   "metadata": {},
   "outputs": [],
   "source": [
    "class counter:\n",
    "    def __init__(self):\n",
    "        self.count = 0\n",
    "        self.maxCount = 10\n",
    "\n",
    "    def countUP(self):\n",
    "        if self.count < self.maxCount:\n",
    "            self.count = self.count + 1\n",
    "        else:\n",
    "            print(\"Error\")\n",
    "\n",
    "    def reset(self):\n",
    "        self.count = 0\n",
    "\n",
    "    def currentState(self):\n",
    "        return self.count\n",
    "        "
   ]
  },
  {
   "cell_type": "code",
   "execution_count": 17,
   "metadata": {},
   "outputs": [],
   "source": [
    "c = counter()\n",
    "\n",
    "c.countUP()"
   ]
  },
  {
   "cell_type": "code",
   "execution_count": 22,
   "metadata": {},
   "outputs": [
    {
     "name": "stdout",
     "output_type": "stream",
     "text": [
      "Error\n",
      "Error\n",
      "Error\n"
     ]
    }
   ],
   "source": [
    "c.countUP()\n",
    "c.countUP()\n",
    "c.countUP()\n",
    "c.countUP()"
   ]
  },
  {
   "cell_type": "code",
   "execution_count": 23,
   "metadata": {},
   "outputs": [
    {
     "data": {
      "text/plain": [
       "10"
      ]
     },
     "execution_count": 23,
     "metadata": {},
     "output_type": "execute_result"
    }
   ],
   "source": [
    "c.currentState()"
   ]
  },
  {
   "cell_type": "code",
   "execution_count": 25,
   "metadata": {},
   "outputs": [
    {
     "data": {
      "text/plain": [
       "0"
      ]
     },
     "execution_count": 25,
     "metadata": {},
     "output_type": "execute_result"
    }
   ],
   "source": [
    "c.reset()\n",
    "c.currentState()"
   ]
  },
  {
   "cell_type": "markdown",
   "metadata": {},
   "source": [
    "2. Copy and paste your solution to question 1 and modify it so that all the data held by the counter is private. Implement functions to check the value of the counter, check the maximum value, and check if the counter is at the maximum."
   ]
  },
  {
   "cell_type": "code",
   "execution_count": 29,
   "metadata": {},
   "outputs": [],
   "source": [
    "class counter_MOD:\n",
    "    def __init__(self):\n",
    "        self.__count = 0\n",
    "        self.__maxCount = 10\n",
    "\n",
    "    def countUP(self):\n",
    "        if self.__count < self.__maxCount:\n",
    "            self.__count = self.__count + 1\n",
    "        else:\n",
    "            print(\"Error\")\n",
    "\n",
    "    def reset(self):\n",
    "        self.__count = 0\n",
    "\n",
    "    def currentState(self):\n",
    "        return self.__count\n",
    "\n",
    "    def maxValue(self):\n",
    "        return self.__maxCount\n",
    "\n",
    "    def atMax(self):\n",
    "        if self.__count == self.__maxCount:\n",
    "            return True\n",
    "        else:\n",
    "            return False\n",
    "\n",
    "    "
   ]
  },
  {
   "cell_type": "code",
   "execution_count": 31,
   "metadata": {},
   "outputs": [],
   "source": [
    "c_mod = counter_MOD()"
   ]
  },
  {
   "cell_type": "code",
   "execution_count": 37,
   "metadata": {},
   "outputs": [],
   "source": [
    "c_mod.countUP()"
   ]
  },
  {
   "cell_type": "code",
   "execution_count": 38,
   "metadata": {},
   "outputs": [
    {
     "data": {
      "text/plain": [
       "3"
      ]
     },
     "execution_count": 38,
     "metadata": {},
     "output_type": "execute_result"
    }
   ],
   "source": [
    "c_mod.currentState()"
   ]
  },
  {
   "cell_type": "code",
   "execution_count": 39,
   "metadata": {},
   "outputs": [
    {
     "data": {
      "text/plain": [
       "10"
      ]
     },
     "execution_count": 39,
     "metadata": {},
     "output_type": "execute_result"
    }
   ],
   "source": [
    "c_mod.maxValue()"
   ]
  },
  {
   "cell_type": "code",
   "execution_count": 40,
   "metadata": {},
   "outputs": [
    {
     "data": {
      "text/plain": [
       "False"
      ]
     },
     "execution_count": 40,
     "metadata": {},
     "output_type": "execute_result"
    }
   ],
   "source": [
    "c_mod.atMax()"
   ]
  },
  {
   "cell_type": "markdown",
   "metadata": {},
   "source": [
    "3. Implement a class to represent a rectangle, holding the length, width, and $x$ and $y$ coordinates of a corner of the object. Implement functions that compute the area and perimeter of the rectangle. Make all data members private and privide accessors to retrieve values of data members. "
   ]
  },
  {
   "cell_type": "code",
   "execution_count": 78,
   "metadata": {},
   "outputs": [],
   "source": [
    "class Rect:\n",
    "    def __init__(self, length, width, x, y):\n",
    "        self.__length = length \n",
    "        self.__width = width\n",
    "        self.__x = x\n",
    "        self.__y = y\n",
    "\n",
    "    def area(self):\n",
    "        return (self.__length*self.__width)\n",
    "    def perimeter(self):\n",
    "        return ((self.__length+self.__width)*2)\n",
    "    def get_xyCord(self):\n",
    "        return (self.__x,self.__y)\n",
    "    def get_len(self):\n",
    "        return self.__length\n",
    "    def get_wid(self):\n",
    "        return self.__width\n",
    "\n",
    "        "
   ]
  },
  {
   "cell_type": "code",
   "execution_count": 79,
   "metadata": {},
   "outputs": [],
   "source": [
    "aRect = Rect(10,5,2,3)"
   ]
  },
  {
   "cell_type": "code",
   "execution_count": 80,
   "metadata": {},
   "outputs": [
    {
     "data": {
      "text/plain": [
       "50"
      ]
     },
     "execution_count": 80,
     "metadata": {},
     "output_type": "execute_result"
    }
   ],
   "source": [
    "aRect.area()"
   ]
  },
  {
   "cell_type": "code",
   "execution_count": 81,
   "metadata": {},
   "outputs": [
    {
     "data": {
      "text/plain": [
       "30"
      ]
     },
     "execution_count": 81,
     "metadata": {},
     "output_type": "execute_result"
    }
   ],
   "source": [
    "aRect.perimeter()"
   ]
  },
  {
   "cell_type": "code",
   "execution_count": 82,
   "metadata": {},
   "outputs": [
    {
     "data": {
      "text/plain": [
       "(2, 3)"
      ]
     },
     "execution_count": 82,
     "metadata": {},
     "output_type": "execute_result"
    }
   ],
   "source": [
    "aRect.get_xyCord()"
   ]
  },
  {
   "cell_type": "code",
   "execution_count": 83,
   "metadata": {},
   "outputs": [
    {
     "data": {
      "text/plain": [
       "10"
      ]
     },
     "execution_count": 83,
     "metadata": {},
     "output_type": "execute_result"
    }
   ],
   "source": [
    "aRect.get_len()"
   ]
  },
  {
   "cell_type": "code",
   "execution_count": 84,
   "metadata": {},
   "outputs": [
    {
     "data": {
      "text/plain": [
       "5"
      ]
     },
     "execution_count": 84,
     "metadata": {},
     "output_type": "execute_result"
    }
   ],
   "source": [
    "aRect.get_wid()"
   ]
  },
  {
   "cell_type": "markdown",
   "metadata": {},
   "source": [
    "4. Implement a class to represent a circle, holding the radius and $x$ and $y$ coordinates of center of the object. Implement functions that compute the area and perimeter of the rectangle. Make all data members private and privide accessors to retrieve values of data members. "
   ]
  },
  {
   "cell_type": "code",
   "execution_count": 7,
   "metadata": {},
   "outputs": [],
   "source": [
    "class Circle:\n",
    "    def __init__(self, radius, x, y):\n",
    "        self.__radius = radius \n",
    "        self.__x = x\n",
    "        self.__y = y\n",
    "\n",
    "    def get_area(self):\n",
    "        return (np.pi*(self.__radius**2))\n",
    "    def get_perimeter(self):\n",
    "        return (2*np.pi*self.__radius)\n",
    "    def get_xyCord(self):\n",
    "        return (self.__x, self.__y)"
   ]
  },
  {
   "cell_type": "code",
   "execution_count": 11,
   "metadata": {},
   "outputs": [],
   "source": [
    "cir = Circle(5,3,4)"
   ]
  },
  {
   "cell_type": "code",
   "execution_count": 12,
   "metadata": {},
   "outputs": [
    {
     "data": {
      "text/plain": [
       "78.53981633974483"
      ]
     },
     "execution_count": 12,
     "metadata": {},
     "output_type": "execute_result"
    }
   ],
   "source": [
    "cir.get_area()"
   ]
  },
  {
   "cell_type": "code",
   "execution_count": 13,
   "metadata": {},
   "outputs": [
    {
     "data": {
      "text/plain": [
       "31.41592653589793"
      ]
     },
     "execution_count": 13,
     "metadata": {},
     "output_type": "execute_result"
    }
   ],
   "source": [
    "cir.get_perimeter()"
   ]
  },
  {
   "cell_type": "code",
   "execution_count": 14,
   "metadata": {},
   "outputs": [
    {
     "data": {
      "text/plain": [
       "(3, 4)"
      ]
     },
     "execution_count": 14,
     "metadata": {},
     "output_type": "execute_result"
    }
   ],
   "source": [
    "cir.get_xyCord()"
   ]
  },
  {
   "cell_type": "markdown",
   "metadata": {},
   "source": [
    "5. Implement a common base class for the classes implemented in 3 and 4 above which implements all common methods as not implemented functions (virtual). Re-implement your regtangle and circule classes to inherit from the base class and overload the functions accordingly. "
   ]
  },
  {
   "cell_type": "code",
   "execution_count": 15,
   "metadata": {},
   "outputs": [],
   "source": [
    "class Shape:\n",
    "    def __init__(self, **kwargs):\n",
    "        self.kwargs=kwargs\n",
    "\n",
    "    def get_area(self): pass\n",
    "    def get_perimeter(self): pass\n",
    "    def get_xy_coord(self): pass\n",
    "    \n",
    "        \n",
    "\n",
    "class Rectangle(Shape):\n",
    "    def __init__(self, length, width, x, y):\n",
    "        self.__length = length \n",
    "        self.__width = width\n",
    "        self.__x = x\n",
    "        self.__y = y\n",
    "\n",
    "    def get_area(self):\n",
    "        return (self.__length*self.__width)\n",
    "    def get_perimeter(self):\n",
    "        return ((self.__length+self.__width)*2)\n",
    "    def get_xy_coord(self):\n",
    "        return (self.__x,self.__y)\n",
    "    def get_len(self):\n",
    "        return self.__length\n",
    "    def get_wid(self):\n",
    "        return self.__width\n",
    "\n",
    "\n",
    "class Circle(Shape):\n",
    "    def __init__(self, radius, x, y):\n",
    "        self.__radius = radius \n",
    "        self.__x = x\n",
    "        self.__y = y\n",
    "\n",
    "    def get_area(self):\n",
    "        return (np.pi*(self.__radius**2))\n",
    "    def get_perimeter(self):\n",
    "        return (2*np.pi*self.__radius)\n",
    "    def get_xy_coord(self):\n",
    "        return (self.__x, self.__y)"
   ]
  },
  {
   "cell_type": "markdown",
   "metadata": {},
   "source": [
    "6. Implement a triangle class analogous to the rectangle and circle in question 5."
   ]
  },
  {
   "cell_type": "code",
   "execution_count": 23,
   "metadata": {},
   "outputs": [],
   "source": [
    "class Triangle(Shape):\n",
    "    def __init__(self, base, height,x,y):\n",
    "        self.__base = base\n",
    "        self.__height = height\n",
    "        self.__x=x\n",
    "        self.__y=y\n",
    "    def get_area(self):\n",
    "        return ((self.__base*self.__height)/2)\n",
    "    def get_perimeter(self):\n",
    "        return self.__base*3\n",
    "    def get_xy_coord(self):\n",
    "        return(self.__x,self.__y)\n",
    "        \n",
    "            "
   ]
  },
  {
   "cell_type": "code",
   "execution_count": 24,
   "metadata": {},
   "outputs": [],
   "source": [
    "t=Triangle(4,5,2,3)"
   ]
  },
  {
   "cell_type": "code",
   "execution_count": 25,
   "metadata": {},
   "outputs": [
    {
     "data": {
      "text/plain": [
       "10.0"
      ]
     },
     "execution_count": 25,
     "metadata": {},
     "output_type": "execute_result"
    }
   ],
   "source": [
    "t.get_area()"
   ]
  },
  {
   "cell_type": "code",
   "execution_count": 26,
   "metadata": {},
   "outputs": [
    {
     "data": {
      "text/plain": [
       "12"
      ]
     },
     "execution_count": 26,
     "metadata": {},
     "output_type": "execute_result"
    }
   ],
   "source": [
    "t.get_perimeter()"
   ]
  },
  {
   "cell_type": "code",
   "execution_count": 27,
   "metadata": {},
   "outputs": [
    {
     "data": {
      "text/plain": [
       "(2, 3)"
      ]
     },
     "execution_count": 27,
     "metadata": {},
     "output_type": "execute_result"
    }
   ],
   "source": [
    "t.get_xy_coord()"
   ]
  },
  {
   "cell_type": "markdown",
   "metadata": {},
   "source": [
    "7. Add a function to the object classes, including the base, that returns a list of up to 16 pairs of  $x$ and $y$ points on the parameter of the object. "
   ]
  },
  {
   "cell_type": "code",
   "execution_count": 170,
   "metadata": {},
   "outputs": [
    {
     "data": {
      "text/plain": [
       "'\\n        for i in num_of_pairs:\\n            theta = (2*np.pi/num_of_pairs)\\n            X = X_center+(self.__radius*np.cos(theta))\\n            Y = Y_center+(self.__radius*np.sin(theta))\\n            points.append((X, Y))\\n'"
      ]
     },
     "execution_count": 170,
     "metadata": {},
     "output_type": "execute_result"
    }
   ],
   "source": [
    "class Shape:\n",
    "    def __init__(self, **kwargs):\n",
    "        self.kwargs=kwargs\n",
    "\n",
    "    def get_area(self): pass\n",
    "    def get_perimeter(self): pass\n",
    "    def get_xy_coord(self): pass\n",
    "    def get_points(self): pass\n",
    "    \n",
    "        \n",
    "\n",
    "class Rectangle(Shape):\n",
    "    def __init__(self, length, width, x, y):\n",
    "        self.__length = length \n",
    "        self.__width = width\n",
    "        self.__x = x\n",
    "        self.__y = y\n",
    "\n",
    "    def get_area(self):\n",
    "        return (self.__length*self.__width)\n",
    "    def get_perimeter(self):\n",
    "        return ((self.__length+self.__width)*2)\n",
    "    def get_xy_coord(self):\n",
    "        return (self.__x,self.__y)\n",
    "    def get_len(self):\n",
    "        return self.__length\n",
    "    def get_wid(self):\n",
    "        return self.__width\n",
    "    def get_points(self):\n",
    "        num_of_pairs = min(16,(self.__length+self.__width)*2)\n",
    "        points=[]\n",
    "        X, Y = self.__x,self.__y\n",
    "        points_left=num_of_pairs\n",
    "        step_size = (self.__length+self.__width)*2/num_of_pairs\n",
    "\n",
    "        while points_left > 0 and self.__x<(self.__x+self.__width):\n",
    "            points.append((X, Y))\n",
    "            X += step_size\n",
    "            points_left -= 1\n",
    "        while points_left > 0 and self.__y<(self.__y+self.__length):\n",
    "            points.append((X, Y))\n",
    "            Y+= step_size\n",
    "            points_left -= 1\n",
    "        while points_left > 0 and self.__x+self.__width>self.__x:\n",
    "            points.append((X, Y))\n",
    "            X -= step_size\n",
    "            points_left-=1\n",
    "        while points_left > 0 and self.__y+self.__length>self.__y:\n",
    "            points.append((X, Y))\n",
    "            Y -= step_size\n",
    "            points_left-=1\n",
    "        return points\n",
    "            \n",
    "        \n",
    "\n",
    "\n",
    "class Circle(Shape):\n",
    "    def __init__(self, radius, x, y):\n",
    "        self.__radius = radius \n",
    "        self.__x = x\n",
    "        self.__y = y\n",
    "\n",
    "    def get_area(self):\n",
    "        return (math.pi*(self.__radius**2))\n",
    "    def get_perimeter(self):\n",
    "        return (2*math.pi*self.__radius)\n",
    "    def get_xy_coord(self):\n",
    "        return (self.__x, self.__y)\n",
    "    def get_points(self):\n",
    "        num_of_pairs = min(16,(2*math.pi*self.__radius))\n",
    "        points=[]\n",
    "        X_center,Y_center= self.__x, self.__y\n",
    "        step_size = (2*math.pi)/num_of_pairs\n",
    "        theta = 0\n",
    "\n",
    "        while theta < 2*math.pi:\n",
    "            theta += step_size ##(2*np.pi/num_of_pairs)+\n",
    "            X = X_center+(self.__radius*math.cos(theta))\n",
    "            Y = Y_center+(self.__radius*math.sin(theta))\n",
    "            points.append((X, Y))\n",
    "\n",
    "        return points\n",
    "'''\n",
    "        for i in num_of_pairs:\n",
    "            theta = (2*np.pi/num_of_pairs)\n",
    "            X = X_center+(self.__radius*np.cos(theta))\n",
    "            Y = Y_center+(self.__radius*np.sin(theta))\n",
    "            points.append((X, Y))\n",
    "'''"
   ]
  },
  {
   "cell_type": "code",
   "execution_count": 171,
   "metadata": {},
   "outputs": [
    {
     "data": {
      "text/plain": [
       "[(0, 0),\n",
       " (1.875, 0),\n",
       " (3.75, 0),\n",
       " (5.625, 0),\n",
       " (7.5, 0),\n",
       " (9.375, 0),\n",
       " (11.25, 0),\n",
       " (13.125, 0),\n",
       " (15.0, 0),\n",
       " (16.875, 0),\n",
       " (18.75, 0),\n",
       " (20.625, 0),\n",
       " (22.5, 0),\n",
       " (24.375, 0),\n",
       " (26.25, 0),\n",
       " (28.125, 0)]"
      ]
     },
     "execution_count": 171,
     "metadata": {},
     "output_type": "execute_result"
    }
   ],
   "source": [
    "rec = Rectangle(10,5,0,0)\n",
    "rec.get_perimeter()\n",
    "rec.get_points()"
   ]
  },
  {
   "cell_type": "code",
   "execution_count": 178,
   "metadata": {},
   "outputs": [],
   "source": [
    "cir = Circle(10000, 0, 0)"
   ]
  },
  {
   "cell_type": "code",
   "execution_count": 179,
   "metadata": {},
   "outputs": [
    {
     "data": {
      "text/plain": [
       "[(9238.795325112867, 3826.8343236508977),\n",
       " (7071.067811865476, 7071.067811865475),\n",
       " (3826.8343236508986, 9238.795325112867),\n",
       " (6.123233995736766e-13, 10000.0),\n",
       " (-3826.834323650897, 9238.795325112867),\n",
       " (-7071.067811865475, 7071.067811865476),\n",
       " (-9238.795325112867, 3826.834323650899),\n",
       " (-10000.0, 1.2246467991473533e-12),\n",
       " (-9238.79532511287, -3826.8343236508967),\n",
       " (-7071.067811865477, -7071.067811865475),\n",
       " (-3826.8343236509036, -9238.795325112866),\n",
       " (-1.83697019872103e-12, -10000.0),\n",
       " (3826.8343236509, -9238.795325112866),\n",
       " (7071.0678118654805, -7071.0678118654705),\n",
       " (9238.795325112871, -3826.834323650887),\n",
       " (10000.0, 1.5314274795707798e-11)]"
      ]
     },
     "execution_count": 179,
     "metadata": {},
     "output_type": "execute_result"
    }
   ],
   "source": [
    "cir.get_points()"
   ]
  },
  {
   "cell_type": "markdown",
   "metadata": {},
   "source": [
    "8. Add a function to the object classes, including the base, that tests if a given set of $x$ and $y$ coordinates are inside of the object. You'll have to think through how to determine if a set of coordinates are inside an object for each object type."
   ]
  },
  {
   "cell_type": "code",
   "execution_count": 184,
   "metadata": {},
   "outputs": [],
   "source": [
    "class Shape:\n",
    "    def __init__(self, **kwargs):\n",
    "        self.kwargs=kwargs\n",
    "\n",
    "    def get_area(self): pass\n",
    "    def get_perimeter(self): pass\n",
    "    def get_xy_coord(self): pass\n",
    "    def get_points(self): pass\n",
    "    def in_obj(self): pass\n",
    "    \n",
    "        \n",
    "\n",
    "class Rectangle(Shape):\n",
    "    def __init__(self, length, width, x, y):\n",
    "        self.__length = length \n",
    "        self.__width = width\n",
    "        self.__x = x\n",
    "        self.__y = y\n",
    "\n",
    "    def get_area(self):\n",
    "        return (self.__length*self.__width)\n",
    "    def get_perimeter(self):\n",
    "        return ((self.__length+self.__width)*2)\n",
    "    def get_xy_coord(self):\n",
    "        return (self.__x,self.__y)\n",
    "    def get_len(self):\n",
    "        return self.__length\n",
    "    def get_wid(self):\n",
    "        return self.__width\n",
    "    def get_points(self):\n",
    "        num_of_pairs = min(16,(self.__length+self.__width)*2)\n",
    "        points=[]\n",
    "        X, Y = self.__x,self.__y\n",
    "        points_left=num_of_pairs\n",
    "        step_size = (self.__length+self.__width)*2/num_of_pairs\n",
    "\n",
    "        while points_left > 0 and self.__x<(self.__x+self.__width):\n",
    "            points.append((X, Y))\n",
    "            X += step_size\n",
    "            points_left -= 1\n",
    "        while points_left > 0 and self.__y<(self.__y+self.__length):\n",
    "            points.append((X, Y))\n",
    "            Y+= step_size\n",
    "            points_left -= 1\n",
    "        while points_left > 0 and self.__x+self.__width>self.__x:\n",
    "            points.append((X, Y))\n",
    "            X -= step_size\n",
    "            points_left-=1\n",
    "        while points_left > 0 and self.__y+self.__length>self.__y:\n",
    "            points.append((X, Y))\n",
    "            Y -= step_size\n",
    "            points_left-=1\n",
    "        return points\n",
    "    def in_obj(self, x, y):\n",
    "        if self.__x<=x<=(self.__x+self.__width) and self.__y<=y<=(self.__y+self.__length):\n",
    "            return True\n",
    "        else:\n",
    "            return False\n",
    "        \n",
    "            \n",
    "        \n",
    "\n",
    "\n",
    "class Circle(Shape):\n",
    "    def __init__(self, radius, x, y):\n",
    "        self.__radius = radius \n",
    "        self.__x = x\n",
    "        self.__y = y\n",
    "\n",
    "    def get_area(self):\n",
    "        return (math.pi*(self.__radius**2))\n",
    "    def get_perimeter(self):\n",
    "        return (2*math.pi*self.__radius)\n",
    "    def get_xy_coord(self):\n",
    "        return (self.__x, self.__y)\n",
    "    def get_points(self):\n",
    "        num_of_pairs = min(16,(2*math.pi*self.__radius))\n",
    "        points=[]\n",
    "        X_center,Y_center= self.__x, self.__y\n",
    "        step_size = (2*math.pi)/num_of_pairs\n",
    "        theta = 0\n",
    "\n",
    "        while theta < 2*math.pi:\n",
    "            theta += step_size ##(2*np.pi/num_of_pairs)+\n",
    "            X = X_center+(self.__radius*math.cos(theta))\n",
    "            Y = Y_center+(self.__radius*math.sin(theta))\n",
    "            points.append((X, Y))\n",
    "\n",
    "        return points\n",
    "    def in_obj(self, x, y):\n",
    "        if ((x-self.__x)**2+(y-self.__y)**2) <= self.__radius**2:\n",
    "            return True\n",
    "        else:\n",
    "            return False"
   ]
  },
  {
   "cell_type": "code",
   "execution_count": 185,
   "metadata": {},
   "outputs": [],
   "source": [
    "g = Rectangle(10,4,0,0)"
   ]
  },
  {
   "cell_type": "code",
   "execution_count": 186,
   "metadata": {},
   "outputs": [
    {
     "data": {
      "text/plain": [
       "True"
      ]
     },
     "execution_count": 186,
     "metadata": {},
     "output_type": "execute_result"
    }
   ],
   "source": [
    "g.in_obj(2,3)"
   ]
  },
  {
   "cell_type": "code",
   "execution_count": 187,
   "metadata": {},
   "outputs": [
    {
     "data": {
      "text/plain": [
       "False"
      ]
     },
     "execution_count": 187,
     "metadata": {},
     "output_type": "execute_result"
    }
   ],
   "source": [
    "g.in_obj(11,5)"
   ]
  },
  {
   "cell_type": "code",
   "execution_count": 189,
   "metadata": {},
   "outputs": [],
   "source": [
    "f = Circle(10,0,0)"
   ]
  },
  {
   "cell_type": "code",
   "execution_count": 194,
   "metadata": {},
   "outputs": [
    {
     "data": {
      "text/plain": [
       "False"
      ]
     },
     "execution_count": 194,
     "metadata": {},
     "output_type": "execute_result"
    }
   ],
   "source": [
    "f.in_obj(10,1)"
   ]
  },
  {
   "cell_type": "code",
   "execution_count": 193,
   "metadata": {},
   "outputs": [
    {
     "data": {
      "text/plain": [
       "True"
      ]
     },
     "execution_count": 193,
     "metadata": {},
     "output_type": "execute_result"
    }
   ],
   "source": [
    "f.in_obj(8,3)"
   ]
  },
  {
   "cell_type": "markdown",
   "metadata": {},
   "source": [
    "9. Add a function in the base class of the object classes that returns true/false testing that the object overlaps with another object."
   ]
  },
  {
   "cell_type": "code",
   "execution_count": null,
   "metadata": {},
   "outputs": [],
   "source": []
  },
  {
   "cell_type": "markdown",
   "metadata": {},
   "source": [
    "10. Copy the `Canvas` class from lecture to in a python file creating a `paint` module. Copy your classes from above into the module and implement paint functions. Implement a `CompoundShape` class. Create a simple drawing demonstrating that all of your classes are working."
   ]
  },
  {
   "cell_type": "code",
   "execution_count": null,
   "metadata": {},
   "outputs": [],
   "source": []
  },
  {
   "cell_type": "markdown",
   "metadata": {},
   "source": [
    "11. Create a `RasterDrawing` class. Demonstrate that you can create a drawing made of several shapes, paint the drawing, modify the drawing, and paint it again. "
   ]
  },
  {
   "cell_type": "code",
   "execution_count": null,
   "metadata": {},
   "outputs": [],
   "source": []
  },
  {
   "cell_type": "markdown",
   "metadata": {},
   "source": [
    "12. Implement the ability to load/save raster drawings and demonstate that your method works. One way to implement this ability:\n",
    "\n",
    "   * Overload `__repr__` functions of all objects to return strings of the python code that would construct the object.\n",
    "   \n",
    "   * In the save method of raster drawing class, store the representations into the file.\n",
    "   * Write a loader function that reads the file and uses `eval` to instantiate the object.\n",
    "\n",
    "For example:"
   ]
  },
  {
   "cell_type": "code",
   "execution_count": 1,
   "metadata": {},
   "outputs": [],
   "source": [
    "class foo:\n",
    "    def __init__(self,a,b=None):\n",
    "        self.a=a\n",
    "        self.b=b\n",
    "        \n",
    "    def __repr__(self):\n",
    "        return \"foo(\"+repr(self.a)+\",\"+repr(self.b)+\")\"\n",
    "    \n",
    "    def save(self,filename):\n",
    "        f=open(filename,\"w\")\n",
    "        f.write(self.__repr__())\n",
    "        f.close()\n",
    "        \n",
    "   \n",
    "def foo_loader(filename):\n",
    "    f=open(filename,\"r\")\n",
    "    tmp=eval(f.read())\n",
    "    f.close()\n",
    "    return tmp\n"
   ]
  },
  {
   "cell_type": "code",
   "execution_count": 2,
   "metadata": {},
   "outputs": [
    {
     "name": "stdout",
     "output_type": "stream",
     "text": [
      "foo(1,'hello')\n"
     ]
    }
   ],
   "source": [
    "# Test\n",
    "print(repr(foo(1,\"hello\")))"
   ]
  },
  {
   "cell_type": "code",
   "execution_count": 3,
   "metadata": {},
   "outputs": [],
   "source": [
    "# Create an object and save it\n",
    "ff=foo(1,\"hello\")\n",
    "ff.save(\"Test.foo\")"
   ]
  },
  {
   "cell_type": "code",
   "execution_count": 4,
   "metadata": {},
   "outputs": [
    {
     "name": "stdout",
     "output_type": "stream",
     "text": [
      "foo(1,'hello')"
     ]
    }
   ],
   "source": [
    "# Check contents of the saved file\n",
    "!cat Test.foo"
   ]
  },
  {
   "cell_type": "code",
   "execution_count": 5,
   "metadata": {},
   "outputs": [
    {
     "data": {
      "text/plain": [
       "foo(1,'hello')"
      ]
     },
     "execution_count": 5,
     "metadata": {},
     "output_type": "execute_result"
    }
   ],
   "source": [
    "# Load the object\n",
    "ff_reloaded=foo_loader(\"Test.foo\")\n",
    "ff_reloaded"
   ]
  }
 ],
 "metadata": {
  "kernelspec": {
   "display_name": "Python 3 (ipykernel)",
   "language": "python",
   "name": "python3"
  },
  "language_info": {
   "codemirror_mode": {
    "name": "ipython",
    "version": 3
   },
   "file_extension": ".py",
   "mimetype": "text/x-python",
   "name": "python",
   "nbconvert_exporter": "python",
   "pygments_lexer": "ipython3",
   "version": "3.13.1"
  }
 },
 "nbformat": 4,
 "nbformat_minor": 4
}
