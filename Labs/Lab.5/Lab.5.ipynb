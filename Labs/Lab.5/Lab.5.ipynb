{
 "cells": [
  {
   "cell_type": "markdown",
   "metadata": {},
   "source": [
    "## Quiz 2"
   ]
  },
  {
   "cell_type": "code",
   "execution_count": 438,
   "metadata": {},
   "outputs": [
    {
     "name": "stdout",
     "output_type": "stream",
     "text": [
      "[('Hearts', 2), ('Hearts', 3), ('Hearts', 4), ('Hearts', 5), ('Hearts', 6), ('Hearts', 7), ('Hearts', 8), ('Hearts', 9), ('Hearts', 10), ('Hearts', 'Ace'), ('Hearts', 'Jack'), ('Hearts', 'Queen'), ('Hearts', 'King'), ('Clubs', 2), ('Clubs', 3), ('Clubs', 4), ('Clubs', 5), ('Clubs', 6), ('Clubs', 7), ('Clubs', 8), ('Clubs', 9), ('Clubs', 10), ('Clubs', 'Ace'), ('Clubs', 'Jack'), ('Clubs', 'Queen'), ('Clubs', 'King'), ('Spades', 2), ('Spades', 3), ('Spades', 4), ('Spades', 5), ('Spades', 6), ('Spades', 7), ('Spades', 8), ('Spades', 9), ('Spades', 10), ('Spades', 'Ace'), ('Spades', 'Jack'), ('Spades', 'Queen'), ('Spades', 'King'), ('Diamonds', 2), ('Diamonds', 3), ('Diamonds', 4), ('Diamonds', 5), ('Diamonds', 6), ('Diamonds', 7), ('Diamonds', 8), ('Diamonds', 9), ('Diamonds', 10), ('Diamonds', 'Ace'), ('Diamonds', 'Jack'), ('Diamonds', 'Queen'), ('Diamonds', 'King')]\n"
     ]
    }
   ],
   "source": [
    "Values = [2, 3, 4, 5, 6, 7, 8, 9, 10, \"Ace\", \"Jack\", \"Queen\", \"King\"]\n",
    "Suits = [\"Hearts\", \"Clubs\", \"Spades\", \"Diamonds\"]\n",
    "deck= []\n",
    "\n",
    "def make_deck_tuple():\n",
    "    for suit in Suits:\n",
    "        for value in Values:\n",
    "            deck.append((suit, value))\n",
    "    return deck\n",
    "\n",
    "deck = make_deck_tuple()\n",
    "print (deck)"
   ]
  },
  {
   "cell_type": "markdown",
   "metadata": {},
   "source": [
    "# Lab 5\n"
   ]
  },
  {
   "cell_type": "markdown",
   "metadata": {},
   "source": [
    "Matrix Representation: In this lab you will be creating a simple linear algebra system. In memory, we will represent matrices as nested python lists as we have done in lecture. In the exercises below, you are required to explicitly test every feature you implement, demonstrating it works.\n",
    "\n",
    "1. Create a `matrix` class with the following properties:\n",
    "    * It can be initialized in 2 ways:\n",
    "        1. with arguments `n` and `m`, the size of the matrix. A newly instanciated matrix will contain all zeros.\n",
    "        2. with a list of lists of values. Note that since we are using lists of lists to implement matrices, it is possible that not all rows have the same number of columns. Test explicitly that the matrix is properly specified.\n",
    "    * Matrix instances `M` can be indexed with `M[i][j]` and `M[i,j]`.\n"
   ]
  },
  {
   "cell_type": "code",
   "execution_count": 194,
   "metadata": {},
   "outputs": [],
   "source": [
    "class Matrix:\n",
    "    def __init__(self):\n",
    "        self.matrix=[]\n",
    "    def create_matrix(self, n=None, m=None, Data=None):\n",
    "        if n is not None and m is not None:\n",
    "            self.matrix = [[0 for _ in range(n)] for _ in range(m)]\n",
    "        elif Data is not None:\n",
    "            rowlen = [len(row) for row in Data]\n",
    "            mcols = max(rowlen)\n",
    "            if any(len(row) != mcols for row in Data):\n",
    "                return (\"Error, please make sure your rows and columns match\")\n",
    "            else:\n",
    "                self.matrix = Data\n",
    "        else:\n",
    "            self.matrix=[]\n",
    "\n",
    "    def __getitem__(self, index):\n",
    "        if isinstance(index, tuple):\n",
    "            i, j= index\n",
    "            return self.matrix[i][j]\n",
    "        elif isinstance(index, int):\n",
    "            return self.matrix[index]\n",
    "        else:\n",
    "            raise TypeError(\"Invalid entry\")\n",
    "\n",
    "    def __str__(self):\n",
    "        output = \"\"\n",
    "        for row in self.matrix:\n",
    "            output += str(row) + \"\\n\"\n",
    "        return output.strip() \n",
    "            \n",
    "        "
   ]
  },
  {
   "cell_type": "code",
   "execution_count": 195,
   "metadata": {},
   "outputs": [
    {
     "name": "stdout",
     "output_type": "stream",
     "text": [
      "[0, 0, 0, 0]\n",
      "[0, 0, 0, 0]\n",
      "[0, 0, 0, 0]\n",
      "[0, 0, 0, 0]\n"
     ]
    }
   ],
   "source": [
    "testNMmatrix = Matrix()\n",
    "\n",
    "testNMmatrix.create_matrix(4,4)\n",
    "\n",
    "print(testNMmatrix)"
   ]
  },
  {
   "cell_type": "code",
   "execution_count": 196,
   "metadata": {},
   "outputs": [
    {
     "data": {
      "text/plain": [
       "'Error, please make sure your rows and columns match'"
      ]
     },
     "execution_count": 196,
     "metadata": {},
     "output_type": "execute_result"
    }
   ],
   "source": [
    "testERRORmatrix = Matrix()\n",
    "\n",
    "testERRORmatrix.create_matrix(Data=[[1,2],[3,4,5]])"
   ]
  },
  {
   "cell_type": "code",
   "execution_count": 197,
   "metadata": {},
   "outputs": [
    {
     "name": "stdout",
     "output_type": "stream",
     "text": [
      "[1, 2]\n",
      "[3, 4]\n"
     ]
    }
   ],
   "source": [
    "testLISTmatrix = Matrix()\n",
    "\n",
    "testLISTmatrix.create_matrix(Data=[[1,2],[3,4]])\n",
    "\n",
    "print(testLISTmatrix)"
   ]
  },
  {
   "cell_type": "code",
   "execution_count": 199,
   "metadata": {},
   "outputs": [
    {
     "name": "stdout",
     "output_type": "stream",
     "text": [
      "2\n"
     ]
    }
   ],
   "source": [
    "print(testLISTmatrix[0,1])"
   ]
  },
  {
   "cell_type": "markdown",
   "metadata": {},
   "source": [
    "2. Add the following methods:\n",
    "    * `shape()`: returns a tuple `(n,m)` of the shape of the matrix.\n",
    "    * `transpose()`: returns a new matrix instance which is the transpose of the matrix.\n",
    "    * `row(n)` and `column(n)`: that return the nth row or column of the matrix M as a new appropriately shaped matrix object.\n",
    "    * `to_list()`: which returns the matrix as a list of lists.\n",
    "    *  `block(n_0,n_1,m_0,m_1)` that returns a smaller matrix located at the n_0 to n_1 columns and m_0 to m_1 rows. \n",
    "    * (Extra credit) Modify `__getitem__` implemented above to support slicing.\n",
    "        "
   ]
  },
  {
   "cell_type": "code",
   "execution_count": 329,
   "metadata": {},
   "outputs": [],
   "source": [
    "class Matrix:\n",
    "    def __init__(self):\n",
    "        self.matrix=[]\n",
    "    def create_matrix(self, n=None, m=None, Data=None):\n",
    "        if n is not None and m is not None:\n",
    "            self.matrix = [[0 for _ in range(n)] for _ in range(m)]\n",
    "        elif Data is not None:\n",
    "            rowlen = [len(row) for row in Data]\n",
    "            mcols = max(rowlen)\n",
    "            if any(len(row) != mcols for row in Data):\n",
    "                return (\"Error, please make sure your rows and columns match\")\n",
    "            else:\n",
    "                self.matrix = Data\n",
    "        else:\n",
    "            self.matrix=[]\n",
    "\n",
    "    def __getitem__(self, index):\n",
    "        if isinstance(index, tuple):\n",
    "            i, j= index\n",
    "            return self.matrix[i][j]\n",
    "        elif isinstance(index, int):\n",
    "            return self.matrix[index]\n",
    "        else:\n",
    "            raise TypeError(\"Invalid entry\")\n",
    "\n",
    "    def __str__(self):\n",
    "        output = \"\"\n",
    "        for row in self.matrix:\n",
    "            output += str(row) + \"\\n\"\n",
    "        return output.strip() \n",
    "\n",
    "    def shape(self):\n",
    "        rowlen = [len(row) for row in self.matrix]\n",
    "        cols = max(rowlen)\n",
    "        row = len(self.matrix)\n",
    "        return((cols,row))\n",
    "\n",
    "    def transpose(self):\n",
    "        transposed = []\n",
    "        for col in range(len(self.matrix[0])):\n",
    "            new_row = []\n",
    "            for row in range(len(self.matrix)):\n",
    "                new_row.append(self.matrix[row][col])\n",
    "            transposed.append(new_row)\n",
    "        self.matrix=transposed\n",
    "    def row(self, n):\n",
    "        row = [self.matrix[n]]\n",
    "        return row\n",
    "\n",
    "    def column(self,n):\n",
    "        selected_column = []\n",
    "        for _ in range(len(self.matrix)):\n",
    "            x = self.matrix[_][n]\n",
    "            selected_column.append([x])\n",
    "        return selected_column\n",
    "\n",
    "    def as_list(self):\n",
    "        return self.matrix\n",
    "\n",
    "    def block(self,n_0,n_1,m_0,m_1):\n",
    "        small = []\n",
    "        for _ in range(n_0, n_1):\n",
    "            row = self.matrix[_]\n",
    "            sub_row = row[m_0:m_1]\n",
    "\n",
    "            small.append(sub_row)\n",
    "        return small\n",
    "            \n"
   ]
  },
  {
   "cell_type": "code",
   "execution_count": 330,
   "metadata": {},
   "outputs": [
    {
     "name": "stdout",
     "output_type": "stream",
     "text": [
      "[1, 2, 3, 4]\n",
      "[5, 6, 7, 8]\n",
      "[9, 10, 11, 12]\n",
      "[13, 14, 15, 16]\n"
     ]
    }
   ],
   "source": [
    "testLISTmatrix = Matrix()\n",
    "\n",
    "testLISTmatrix.create_matrix(Data=[[1,2,3,4],[5,6,7,8],[9,10,11,12],[13,14,15,16]])\n",
    "\n",
    "print(testLISTmatrix)"
   ]
  },
  {
   "cell_type": "code",
   "execution_count": 324,
   "metadata": {},
   "outputs": [
    {
     "data": {
      "text/plain": [
       "(4, 4)"
      ]
     },
     "execution_count": 324,
     "metadata": {},
     "output_type": "execute_result"
    }
   ],
   "source": [
    "testLISTmatrix.shape()"
   ]
  },
  {
   "cell_type": "code",
   "execution_count": 313,
   "metadata": {},
   "outputs": [
    {
     "name": "stdout",
     "output_type": "stream",
     "text": [
      "[1, 5, 9, 13]\n",
      "[2, 6, 10, 14]\n",
      "[3, 7, 11, 15]\n",
      "[4, 8, 12, 16]\n"
     ]
    }
   ],
   "source": [
    "testLISTmatrix.transpose()\n",
    "print(testLISTmatrix)"
   ]
  },
  {
   "cell_type": "code",
   "execution_count": 318,
   "metadata": {},
   "outputs": [
    {
     "data": {
      "text/plain": [
       "[[1, 2, 3, 4]]"
      ]
     },
     "execution_count": 318,
     "metadata": {},
     "output_type": "execute_result"
    }
   ],
   "source": [
    "testLISTmatrix.row(0) ## from non transposed matrix"
   ]
  },
  {
   "cell_type": "code",
   "execution_count": 319,
   "metadata": {},
   "outputs": [
    {
     "data": {
      "text/plain": [
       "[[1], [5], [9], [13]]"
      ]
     },
     "execution_count": 319,
     "metadata": {},
     "output_type": "execute_result"
    }
   ],
   "source": [
    "testLISTmatrix.column(0) ## from non transposed matrix"
   ]
  },
  {
   "cell_type": "code",
   "execution_count": 316,
   "metadata": {},
   "outputs": [
    {
     "data": {
      "text/plain": [
       "[[1, 5, 9, 13], [2, 6, 10, 14], [3, 7, 11, 15], [4, 8, 12, 16]]"
      ]
     },
     "execution_count": 316,
     "metadata": {},
     "output_type": "execute_result"
    }
   ],
   "source": [
    "testLISTmatrix.as_list()"
   ]
  },
  {
   "cell_type": "code",
   "execution_count": 334,
   "metadata": {},
   "outputs": [
    {
     "data": {
      "text/plain": [
       "[[6, 7]]"
      ]
     },
     "execution_count": 334,
     "metadata": {},
     "output_type": "execute_result"
    }
   ],
   "source": [
    "testLISTmatrix.block(1,2,1,3)"
   ]
  },
  {
   "cell_type": "markdown",
   "metadata": {},
   "source": [
    "3. Write functions that create special matrices (note these are standalone functions, not member functions of your `matrix` class):\n",
    "    * `constant(n,m,c)`: returns a `n` by `m` matrix filled with floats of value `c`.\n",
    "    * `zeros(n,m)` and `ones(n,m)`: return `n` by `m` matrices filled with floats of value `0` and `1`, respectively.\n",
    "    * `eye(n)`: returns the n by n identity matrix."
   ]
  },
  {
   "cell_type": "code",
   "execution_count": 341,
   "metadata": {},
   "outputs": [],
   "source": [
    "def constant(n,m,c):\n",
    "    matrix = []\n",
    "    for _ in range(n):\n",
    "        row = []\n",
    "        for _ in range(m):\n",
    "            row.append(c)\n",
    "        matrix.append(row)\n",
    "    return matrix\n",
    "\n",
    "def zeroes(n,m):\n",
    "    zero = constant(n,m,0)\n",
    "    return zero\n",
    "\n",
    "def ones(n,m):\n",
    "    one = constant(n,m,1)\n",
    "    return one\n",
    "\n",
    "def eye(n):\n",
    "    eye = zeroes(n,n)\n",
    "    for _ in range(n):\n",
    "        eye[_][_] = 1\n",
    "    return eye"
   ]
  },
  {
   "cell_type": "code",
   "execution_count": 342,
   "metadata": {},
   "outputs": [
    {
     "data": {
      "text/plain": [
       "[[4, 4, 4, 4, 4],\n",
       " [4, 4, 4, 4, 4],\n",
       " [4, 4, 4, 4, 4],\n",
       " [4, 4, 4, 4, 4],\n",
       " [4, 4, 4, 4, 4]]"
      ]
     },
     "execution_count": 342,
     "metadata": {},
     "output_type": "execute_result"
    }
   ],
   "source": [
    "constant(5,5,4)"
   ]
  },
  {
   "cell_type": "code",
   "execution_count": 343,
   "metadata": {},
   "outputs": [
    {
     "data": {
      "text/plain": [
       "[[0, 0, 0], [0, 0, 0], [0, 0, 0]]"
      ]
     },
     "execution_count": 343,
     "metadata": {},
     "output_type": "execute_result"
    }
   ],
   "source": [
    "zeroes(3,3)"
   ]
  },
  {
   "cell_type": "code",
   "execution_count": 344,
   "metadata": {},
   "outputs": [
    {
     "data": {
      "text/plain": [
       "[[1, 1, 1, 1, 1, 1, 1, 1, 1],\n",
       " [1, 1, 1, 1, 1, 1, 1, 1, 1],\n",
       " [1, 1, 1, 1, 1, 1, 1, 1, 1],\n",
       " [1, 1, 1, 1, 1, 1, 1, 1, 1],\n",
       " [1, 1, 1, 1, 1, 1, 1, 1, 1],\n",
       " [1, 1, 1, 1, 1, 1, 1, 1, 1],\n",
       " [1, 1, 1, 1, 1, 1, 1, 1, 1],\n",
       " [1, 1, 1, 1, 1, 1, 1, 1, 1],\n",
       " [1, 1, 1, 1, 1, 1, 1, 1, 1]]"
      ]
     },
     "execution_count": 344,
     "metadata": {},
     "output_type": "execute_result"
    }
   ],
   "source": [
    "ones(9,9)"
   ]
  },
  {
   "cell_type": "code",
   "execution_count": 348,
   "metadata": {},
   "outputs": [
    {
     "data": {
      "text/plain": [
       "[[1, 0, 0, 0, 0, 0, 0],\n",
       " [0, 1, 0, 0, 0, 0, 0],\n",
       " [0, 0, 1, 0, 0, 0, 0],\n",
       " [0, 0, 0, 1, 0, 0, 0],\n",
       " [0, 0, 0, 0, 1, 0, 0],\n",
       " [0, 0, 0, 0, 0, 1, 0],\n",
       " [0, 0, 0, 0, 0, 0, 1]]"
      ]
     },
     "execution_count": 348,
     "metadata": {},
     "output_type": "execute_result"
    }
   ],
   "source": [
    "eye(7)"
   ]
  },
  {
   "cell_type": "markdown",
   "metadata": {},
   "source": [
    "4. Add the following member functions to your class. Make sure to appropriately test the dimensions of the matrices to make sure the operations are correct.\n",
    "    * `M.scalarmul(c)`: a matrix that is scalar product $cM$, where every element of $M$ is multiplied by $c$.\n",
    "    * `M.add(N)`: adds two matrices $M$ and $N$. Don’t forget to test that the sizes of the matrices are compatible for this and all other operations.\n",
    "    * `M.sub(N)`: subtracts two matrices $M$ and $N$.\n",
    "    * `M.mat_mult(N)`: returns a matrix that is the matrix product of two matrices $M$ and $N$.\n",
    "    * `M.element_mult(N)`: returns a matrix that is the element-wise product of two matrices $M$ and $N$.\n",
    "    * `M.equals(N)`: returns true/false if $M==N$."
   ]
  },
  {
   "cell_type": "code",
   "execution_count": 504,
   "metadata": {},
   "outputs": [],
   "source": [
    "class Matrix:\n",
    "    def __init__(self):\n",
    "        self.matrix=[]\n",
    "        self.n = 0 \n",
    "        self.m = 0\n",
    "    def create_matrix(self, n=None, m=None, Data=None):\n",
    "        if n is not None and m is not None:\n",
    "            self.m = m\n",
    "            self.n = n\n",
    "            self.matrix = [[0 for _ in range(n)] for _ in range(m)]\n",
    "        elif Data is not None:\n",
    "            rowlen = [len(row) for row in Data]\n",
    "            mcols = max(rowlen)\n",
    "            if any(len(row) != mcols for row in Data):\n",
    "                return (\"Error, please make sure your rows and columns match\")\n",
    "            else:\n",
    "                self.matrix = Data\n",
    "        else:\n",
    "            self.matrix=[]\n",
    "            self.m = len(Data)  \n",
    "            self.n = mcols \n",
    "\n",
    "    def __getitem__(self, index):\n",
    "        if isinstance(index, tuple):\n",
    "            i, j= index\n",
    "            return self.matrix[i][j]\n",
    "        elif isinstance(index, int):\n",
    "            return self.matrix[index]\n",
    "        else:\n",
    "            raise TypeError(\"Invalid entry\")\n",
    "\n",
    "    def __str__(self):\n",
    "        output = \"\"\n",
    "        for row in self.matrix:\n",
    "            output += str(row) + \"\\n\"\n",
    "        return output.strip() \n",
    "\n",
    "    def shape(self):\n",
    "        rowlen = [len(row) for row in self.matrix]\n",
    "        cols = max(rowlen)\n",
    "        row = len(self.matrix)\n",
    "        return((cols,row))\n",
    "\n",
    "    def transpose(self):\n",
    "        transposed = []\n",
    "        for col in range(len(self.matrix[0])):\n",
    "            new_row = []\n",
    "            for row in range(len(self.matrix)):\n",
    "                new_row.append(self.matrix[row][col])\n",
    "            transposed.append(new_row)\n",
    "        self.matrix=transposed\n",
    "        \n",
    "    def row(self, n):\n",
    "        row = [self.matrix[n]]\n",
    "        return row\n",
    "\n",
    "    def column(self,n):\n",
    "        selected_column = []\n",
    "        for _ in range(len(self.matrix)):\n",
    "            x = self.matrix[_][n]\n",
    "            selected_column.append([x])\n",
    "        return selected_column\n",
    "\n",
    "    def as_list(self):\n",
    "        return self.matrix\n",
    "\n",
    "    def block(self,n_0,n_1,m_0,m_1):\n",
    "        small = []\n",
    "        for _ in range(n_0, n_1):\n",
    "            row = self.matrix[_]\n",
    "            sub_row = row[m_0:m_1]\n",
    "\n",
    "            small.append(sub_row)\n",
    "        return small\n",
    "        \n",
    "    def scalarmul(self,c):\n",
    "        for row in range(self.n):\n",
    "            for col in range(self.m):\n",
    "                self.matrix[row][col] *= c\n",
    "\n",
    "    def add(self, N):\n",
    "        if self.shape() != N.shape():\n",
    "            return (\"Incompatible shapes\")\n",
    "        result = Matrix()\n",
    "        result.m,result.n = self.m,self.n\n",
    "        result.matrix = []\n",
    "\n",
    "        for i in range(self.m):\n",
    "            new_row = []\n",
    "            for j in range(self.n):\n",
    "                new_row.append(self.matrix[i][j] + N.matrix[i][j])\n",
    "            result.matrix.append(new_row)\n",
    "        return result\n",
    "    "
   ]
  },
  {
   "cell_type": "code",
   "execution_count": 515,
   "metadata": {},
   "outputs": [
    {
     "data": {
      "text/plain": [
       "<__main__.Matrix at 0x109bf9e50>"
      ]
     },
     "execution_count": 515,
     "metadata": {},
     "output_type": "execute_result"
    }
   ],
   "source": [
    "A= Matrix()\n",
    "\n",
    "A.create_matrix(Data=[[1,2],[3,4]])\n",
    "\n",
    "B = Matrix()\n",
    "\n",
    "B.create_matrix(Data=[[2,2],[2,2]])\n",
    "\n",
    "A.add(B)"
   ]
  },
  {
   "cell_type": "code",
   "execution_count": 481,
   "metadata": {},
   "outputs": [
    {
     "name": "stdout",
     "output_type": "stream",
     "text": [
      "[]\n"
     ]
    }
   ],
   "source": [
    "resultM = testMatrix.add(matrixB)\n",
    "print(resultM)"
   ]
  },
  {
   "cell_type": "markdown",
   "metadata": {},
   "source": [
    "5. Overload python operators to appropriately use your functions in 4 and allow expressions like:\n",
    "    * 2*M\n",
    "    * M*2\n",
    "    * M+N\n",
    "    * M-N\n",
    "    * M*N\n",
    "    * M==N\n",
    "    * M=N\n"
   ]
  },
  {
   "cell_type": "code",
   "execution_count": null,
   "metadata": {},
   "outputs": [],
   "source": []
  },
  {
   "cell_type": "code",
   "execution_count": null,
   "metadata": {},
   "outputs": [],
   "source": []
  },
  {
   "cell_type": "markdown",
   "metadata": {},
   "source": [
    "6. Demonstrate the basic properties of matrices with your matrix class by creating two 2 by 2 example matrices using your Matrix class and illustrating the following:\n",
    "\n",
    "$$\n",
    "(AB)C=A(BC)\n",
    "$$\n",
    "$$\n",
    "A(B+C)=AB+AC\n",
    "$$\n",
    "$$\n",
    "AB\\neq BA\n",
    "$$\n",
    "$$\n",
    "AI=A\n",
    "$$"
   ]
  },
  {
   "cell_type": "code",
   "execution_count": null,
   "metadata": {},
   "outputs": [],
   "source": []
  }
 ],
 "metadata": {
  "kernelspec": {
   "display_name": "Python [conda env:base] *",
   "language": "python",
   "name": "conda-base-py"
  },
  "language_info": {
   "codemirror_mode": {
    "name": "ipython",
    "version": 3
   },
   "file_extension": ".py",
   "mimetype": "text/x-python",
   "name": "python",
   "nbconvert_exporter": "python",
   "pygments_lexer": "ipython3",
   "version": "3.12.7"
  }
 },
 "nbformat": 4,
 "nbformat_minor": 4
}
